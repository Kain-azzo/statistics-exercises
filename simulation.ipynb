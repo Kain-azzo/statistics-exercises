{
 "cells": [
  {
   "cell_type": "code",
   "execution_count": 23,
   "id": "571db746",
   "metadata": {},
   "outputs": [],
   "source": [
    "import numpy as np\n",
    "import pandas as pd\n",
    "np.random.seed(123)"
   ]
  },
  {
   "cell_type": "code",
   "execution_count": 24,
   "id": "5c2bd2f1",
   "metadata": {},
   "outputs": [],
   "source": [
    "trials = nrows = 100000\n",
    "dice_roll = ncols = 2\n",
    "rolls = np.random.choice([1, 2, 3, 4, 5, 6], trials * dice_roll).reshape(nrows, ncols)"
   ]
  },
  {
   "cell_type": "code",
   "execution_count": 25,
   "id": "398e88cd",
   "metadata": {},
   "outputs": [
    {
     "data": {
      "text/plain": [
       "array([[6, 3],\n",
       "       [5, 3],\n",
       "       [2, 4],\n",
       "       ...,\n",
       "       [5, 5],\n",
       "       [5, 4],\n",
       "       [4, 6]])"
      ]
     },
     "execution_count": 25,
     "metadata": {},
     "output_type": "execute_result"
    }
   ],
   "source": [
    "rolls"
   ]
  },
  {
   "cell_type": "code",
   "execution_count": 26,
   "id": "214fb78f",
   "metadata": {},
   "outputs": [],
   "source": [
    "rolls =pd.DataFrame(rolls)"
   ]
  },
  {
   "cell_type": "code",
   "execution_count": 27,
   "id": "6b75126d",
   "metadata": {},
   "outputs": [],
   "source": [
    "rolls.columns = [\"roll_one\",\"roll_two\"]"
   ]
  },
  {
   "cell_type": "code",
   "execution_count": 28,
   "id": "51b7f40a",
   "metadata": {},
   "outputs": [
    {
     "data": {
      "text/html": [
       "<div>\n",
       "<style scoped>\n",
       "    .dataframe tbody tr th:only-of-type {\n",
       "        vertical-align: middle;\n",
       "    }\n",
       "\n",
       "    .dataframe tbody tr th {\n",
       "        vertical-align: top;\n",
       "    }\n",
       "\n",
       "    .dataframe thead th {\n",
       "        text-align: right;\n",
       "    }\n",
       "</style>\n",
       "<table border=\"1\" class=\"dataframe\">\n",
       "  <thead>\n",
       "    <tr style=\"text-align: right;\">\n",
       "      <th></th>\n",
       "      <th>roll_one</th>\n",
       "      <th>roll_two</th>\n",
       "    </tr>\n",
       "  </thead>\n",
       "  <tbody>\n",
       "    <tr>\n",
       "      <th>0</th>\n",
       "      <td>6</td>\n",
       "      <td>3</td>\n",
       "    </tr>\n",
       "    <tr>\n",
       "      <th>1</th>\n",
       "      <td>5</td>\n",
       "      <td>3</td>\n",
       "    </tr>\n",
       "    <tr>\n",
       "      <th>2</th>\n",
       "      <td>2</td>\n",
       "      <td>4</td>\n",
       "    </tr>\n",
       "    <tr>\n",
       "      <th>3</th>\n",
       "      <td>3</td>\n",
       "      <td>4</td>\n",
       "    </tr>\n",
       "    <tr>\n",
       "      <th>4</th>\n",
       "      <td>2</td>\n",
       "      <td>2</td>\n",
       "    </tr>\n",
       "    <tr>\n",
       "      <th>...</th>\n",
       "      <td>...</td>\n",
       "      <td>...</td>\n",
       "    </tr>\n",
       "    <tr>\n",
       "      <th>99995</th>\n",
       "      <td>3</td>\n",
       "      <td>4</td>\n",
       "    </tr>\n",
       "    <tr>\n",
       "      <th>99996</th>\n",
       "      <td>3</td>\n",
       "      <td>2</td>\n",
       "    </tr>\n",
       "    <tr>\n",
       "      <th>99997</th>\n",
       "      <td>5</td>\n",
       "      <td>5</td>\n",
       "    </tr>\n",
       "    <tr>\n",
       "      <th>99998</th>\n",
       "      <td>5</td>\n",
       "      <td>4</td>\n",
       "    </tr>\n",
       "    <tr>\n",
       "      <th>99999</th>\n",
       "      <td>4</td>\n",
       "      <td>6</td>\n",
       "    </tr>\n",
       "  </tbody>\n",
       "</table>\n",
       "<p>100000 rows × 2 columns</p>\n",
       "</div>"
      ],
      "text/plain": [
       "       roll_one  roll_two\n",
       "0             6         3\n",
       "1             5         3\n",
       "2             2         4\n",
       "3             3         4\n",
       "4             2         2\n",
       "...         ...       ...\n",
       "99995         3         4\n",
       "99996         3         2\n",
       "99997         5         5\n",
       "99998         5         4\n",
       "99999         4         6\n",
       "\n",
       "[100000 rows x 2 columns]"
      ]
     },
     "execution_count": 28,
     "metadata": {},
     "output_type": "execute_result"
    }
   ],
   "source": [
    "rolls"
   ]
  },
  {
   "cell_type": "code",
   "execution_count": 29,
   "id": "3f55e838",
   "metadata": {},
   "outputs": [
    {
     "data": {
      "text/plain": [
       "0        False\n",
       "1        False\n",
       "2        False\n",
       "3        False\n",
       "4         True\n",
       "         ...  \n",
       "99995    False\n",
       "99996    False\n",
       "99997     True\n",
       "99998    False\n",
       "99999    False\n",
       "Length: 100000, dtype: bool"
      ]
     },
     "execution_count": 29,
     "metadata": {},
     "output_type": "execute_result"
    }
   ],
   "source": [
    "(rolls.roll_one == rolls.roll_two) == True"
   ]
  },
  {
   "cell_type": "code",
   "execution_count": 30,
   "id": "2beb23c7",
   "metadata": {},
   "outputs": [],
   "source": [
    "rolls[\"doubles\"] = (rolls.roll_one == rolls.roll_two) == True"
   ]
  },
  {
   "cell_type": "code",
   "execution_count": 9,
   "id": "6eb2a1e1",
   "metadata": {},
   "outputs": [
    {
     "data": {
      "text/html": [
       "<div>\n",
       "<style scoped>\n",
       "    .dataframe tbody tr th:only-of-type {\n",
       "        vertical-align: middle;\n",
       "    }\n",
       "\n",
       "    .dataframe tbody tr th {\n",
       "        vertical-align: top;\n",
       "    }\n",
       "\n",
       "    .dataframe thead th {\n",
       "        text-align: right;\n",
       "    }\n",
       "</style>\n",
       "<table border=\"1\" class=\"dataframe\">\n",
       "  <thead>\n",
       "    <tr style=\"text-align: right;\">\n",
       "      <th></th>\n",
       "      <th>roll_one</th>\n",
       "      <th>roll_two</th>\n",
       "      <th>doubles</th>\n",
       "    </tr>\n",
       "  </thead>\n",
       "  <tbody>\n",
       "    <tr>\n",
       "      <th>0</th>\n",
       "      <td>3</td>\n",
       "      <td>2</td>\n",
       "      <td>False</td>\n",
       "    </tr>\n",
       "    <tr>\n",
       "      <th>1</th>\n",
       "      <td>3</td>\n",
       "      <td>6</td>\n",
       "      <td>False</td>\n",
       "    </tr>\n",
       "    <tr>\n",
       "      <th>2</th>\n",
       "      <td>2</td>\n",
       "      <td>1</td>\n",
       "      <td>False</td>\n",
       "    </tr>\n",
       "    <tr>\n",
       "      <th>3</th>\n",
       "      <td>1</td>\n",
       "      <td>5</td>\n",
       "      <td>False</td>\n",
       "    </tr>\n",
       "    <tr>\n",
       "      <th>4</th>\n",
       "      <td>3</td>\n",
       "      <td>2</td>\n",
       "      <td>False</td>\n",
       "    </tr>\n",
       "    <tr>\n",
       "      <th>...</th>\n",
       "      <td>...</td>\n",
       "      <td>...</td>\n",
       "      <td>...</td>\n",
       "    </tr>\n",
       "    <tr>\n",
       "      <th>999995</th>\n",
       "      <td>2</td>\n",
       "      <td>2</td>\n",
       "      <td>True</td>\n",
       "    </tr>\n",
       "    <tr>\n",
       "      <th>999996</th>\n",
       "      <td>2</td>\n",
       "      <td>3</td>\n",
       "      <td>False</td>\n",
       "    </tr>\n",
       "    <tr>\n",
       "      <th>999997</th>\n",
       "      <td>4</td>\n",
       "      <td>2</td>\n",
       "      <td>False</td>\n",
       "    </tr>\n",
       "    <tr>\n",
       "      <th>999998</th>\n",
       "      <td>4</td>\n",
       "      <td>2</td>\n",
       "      <td>False</td>\n",
       "    </tr>\n",
       "    <tr>\n",
       "      <th>999999</th>\n",
       "      <td>3</td>\n",
       "      <td>3</td>\n",
       "      <td>True</td>\n",
       "    </tr>\n",
       "  </tbody>\n",
       "</table>\n",
       "<p>1000000 rows × 3 columns</p>\n",
       "</div>"
      ],
      "text/plain": [
       "        roll_one  roll_two  doubles\n",
       "0              3         2    False\n",
       "1              3         6    False\n",
       "2              2         1    False\n",
       "3              1         5    False\n",
       "4              3         2    False\n",
       "...          ...       ...      ...\n",
       "999995         2         2     True\n",
       "999996         2         3    False\n",
       "999997         4         2    False\n",
       "999998         4         2    False\n",
       "999999         3         3     True\n",
       "\n",
       "[1000000 rows x 3 columns]"
      ]
     },
     "execution_count": 9,
     "metadata": {},
     "output_type": "execute_result"
    }
   ],
   "source": [
    "rolls"
   ]
  },
  {
   "cell_type": "code",
   "execution_count": 31,
   "id": "0862e63e",
   "metadata": {},
   "outputs": [
    {
     "data": {
      "text/plain": [
       "doubles\n",
       "False    83503\n",
       "True     16497\n",
       "Name: count, dtype: int64"
      ]
     },
     "execution_count": 31,
     "metadata": {},
     "output_type": "execute_result"
    }
   ],
   "source": [
    "rolls[\"doubles\"].value_counts()"
   ]
  },
  {
   "cell_type": "code",
   "execution_count": 32,
   "id": "f48292b2",
   "metadata": {},
   "outputs": [
    {
     "data": {
      "text/plain": [
       "16.5"
      ]
     },
     "execution_count": 32,
     "metadata": {},
     "output_type": "execute_result"
    }
   ],
   "source": [
    "round((16497/100000) * 100,2) #16.65 % odds of rolling doubles"
   ]
  },
  {
   "cell_type": "code",
   "execution_count": 33,
   "id": "7b6272f2",
   "metadata": {},
   "outputs": [],
   "source": [
    "coin_flips = ncols = 8\n",
    "HEADS = 1\n",
    "TAILS = 0\n",
    "trials = nrows = 100000\n",
    "heads_or_tails = np.random.choice([HEADS,TAILS], trials * coin_flips).reshape(nrows, ncols)"
   ]
  },
  {
   "cell_type": "code",
   "execution_count": 34,
   "id": "0b2b77c0",
   "metadata": {},
   "outputs": [
    {
     "data": {
      "text/plain": [
       "array([[0, 0, 0, ..., 0, 0, 1],\n",
       "       [1, 1, 1, ..., 1, 0, 1],\n",
       "       [1, 1, 0, ..., 0, 1, 1],\n",
       "       ...,\n",
       "       [1, 0, 1, ..., 1, 1, 1],\n",
       "       [1, 0, 0, ..., 0, 1, 0],\n",
       "       [1, 0, 0, ..., 1, 1, 1]])"
      ]
     },
     "execution_count": 34,
     "metadata": {},
     "output_type": "execute_result"
    }
   ],
   "source": [
    "heads_or_tails"
   ]
  },
  {
   "cell_type": "code",
   "execution_count": 35,
   "id": "f61ebefc",
   "metadata": {},
   "outputs": [],
   "source": [
    "determine_odds = pd.DataFrame(heads_or_tails)"
   ]
  },
  {
   "cell_type": "code",
   "execution_count": 36,
   "id": "5bbfab6b",
   "metadata": {},
   "outputs": [
    {
     "data": {
      "text/html": [
       "<div>\n",
       "<style scoped>\n",
       "    .dataframe tbody tr th:only-of-type {\n",
       "        vertical-align: middle;\n",
       "    }\n",
       "\n",
       "    .dataframe tbody tr th {\n",
       "        vertical-align: top;\n",
       "    }\n",
       "\n",
       "    .dataframe thead th {\n",
       "        text-align: right;\n",
       "    }\n",
       "</style>\n",
       "<table border=\"1\" class=\"dataframe\">\n",
       "  <thead>\n",
       "    <tr style=\"text-align: right;\">\n",
       "      <th></th>\n",
       "      <th>0</th>\n",
       "      <th>1</th>\n",
       "      <th>2</th>\n",
       "      <th>3</th>\n",
       "      <th>4</th>\n",
       "      <th>5</th>\n",
       "      <th>6</th>\n",
       "      <th>7</th>\n",
       "    </tr>\n",
       "  </thead>\n",
       "  <tbody>\n",
       "    <tr>\n",
       "      <th>0</th>\n",
       "      <td>0</td>\n",
       "      <td>0</td>\n",
       "      <td>0</td>\n",
       "      <td>0</td>\n",
       "      <td>1</td>\n",
       "      <td>0</td>\n",
       "      <td>0</td>\n",
       "      <td>1</td>\n",
       "    </tr>\n",
       "    <tr>\n",
       "      <th>1</th>\n",
       "      <td>1</td>\n",
       "      <td>1</td>\n",
       "      <td>1</td>\n",
       "      <td>1</td>\n",
       "      <td>0</td>\n",
       "      <td>1</td>\n",
       "      <td>0</td>\n",
       "      <td>1</td>\n",
       "    </tr>\n",
       "    <tr>\n",
       "      <th>2</th>\n",
       "      <td>1</td>\n",
       "      <td>1</td>\n",
       "      <td>0</td>\n",
       "      <td>0</td>\n",
       "      <td>0</td>\n",
       "      <td>0</td>\n",
       "      <td>1</td>\n",
       "      <td>1</td>\n",
       "    </tr>\n",
       "    <tr>\n",
       "      <th>3</th>\n",
       "      <td>1</td>\n",
       "      <td>0</td>\n",
       "      <td>0</td>\n",
       "      <td>0</td>\n",
       "      <td>1</td>\n",
       "      <td>0</td>\n",
       "      <td>1</td>\n",
       "      <td>1</td>\n",
       "    </tr>\n",
       "    <tr>\n",
       "      <th>4</th>\n",
       "      <td>0</td>\n",
       "      <td>0</td>\n",
       "      <td>1</td>\n",
       "      <td>0</td>\n",
       "      <td>1</td>\n",
       "      <td>1</td>\n",
       "      <td>0</td>\n",
       "      <td>1</td>\n",
       "    </tr>\n",
       "    <tr>\n",
       "      <th>...</th>\n",
       "      <td>...</td>\n",
       "      <td>...</td>\n",
       "      <td>...</td>\n",
       "      <td>...</td>\n",
       "      <td>...</td>\n",
       "      <td>...</td>\n",
       "      <td>...</td>\n",
       "      <td>...</td>\n",
       "    </tr>\n",
       "    <tr>\n",
       "      <th>99995</th>\n",
       "      <td>1</td>\n",
       "      <td>0</td>\n",
       "      <td>1</td>\n",
       "      <td>1</td>\n",
       "      <td>0</td>\n",
       "      <td>1</td>\n",
       "      <td>0</td>\n",
       "      <td>1</td>\n",
       "    </tr>\n",
       "    <tr>\n",
       "      <th>99996</th>\n",
       "      <td>1</td>\n",
       "      <td>1</td>\n",
       "      <td>1</td>\n",
       "      <td>0</td>\n",
       "      <td>0</td>\n",
       "      <td>0</td>\n",
       "      <td>1</td>\n",
       "      <td>1</td>\n",
       "    </tr>\n",
       "    <tr>\n",
       "      <th>99997</th>\n",
       "      <td>1</td>\n",
       "      <td>0</td>\n",
       "      <td>1</td>\n",
       "      <td>0</td>\n",
       "      <td>1</td>\n",
       "      <td>1</td>\n",
       "      <td>1</td>\n",
       "      <td>1</td>\n",
       "    </tr>\n",
       "    <tr>\n",
       "      <th>99998</th>\n",
       "      <td>1</td>\n",
       "      <td>0</td>\n",
       "      <td>0</td>\n",
       "      <td>1</td>\n",
       "      <td>1</td>\n",
       "      <td>0</td>\n",
       "      <td>1</td>\n",
       "      <td>0</td>\n",
       "    </tr>\n",
       "    <tr>\n",
       "      <th>99999</th>\n",
       "      <td>1</td>\n",
       "      <td>0</td>\n",
       "      <td>0</td>\n",
       "      <td>1</td>\n",
       "      <td>1</td>\n",
       "      <td>1</td>\n",
       "      <td>1</td>\n",
       "      <td>1</td>\n",
       "    </tr>\n",
       "  </tbody>\n",
       "</table>\n",
       "<p>100000 rows × 8 columns</p>\n",
       "</div>"
      ],
      "text/plain": [
       "       0  1  2  3  4  5  6  7\n",
       "0      0  0  0  0  1  0  0  1\n",
       "1      1  1  1  1  0  1  0  1\n",
       "2      1  1  0  0  0  0  1  1\n",
       "3      1  0  0  0  1  0  1  1\n",
       "4      0  0  1  0  1  1  0  1\n",
       "...   .. .. .. .. .. .. .. ..\n",
       "99995  1  0  1  1  0  1  0  1\n",
       "99996  1  1  1  0  0  0  1  1\n",
       "99997  1  0  1  0  1  1  1  1\n",
       "99998  1  0  0  1  1  0  1  0\n",
       "99999  1  0  0  1  1  1  1  1\n",
       "\n",
       "[100000 rows x 8 columns]"
      ]
     },
     "execution_count": 36,
     "metadata": {},
     "output_type": "execute_result"
    }
   ],
   "source": [
    "determine_odds"
   ]
  },
  {
   "cell_type": "code",
   "execution_count": 37,
   "id": "2109eaf0",
   "metadata": {},
   "outputs": [],
   "source": [
    "was_heads = (determine_odds == 1).sum(axis=1)"
   ]
  },
  {
   "cell_type": "code",
   "execution_count": 38,
   "id": "b3124514",
   "metadata": {},
   "outputs": [],
   "source": [
    "was_heads_3 = ((determine_odds == 1).sum(axis=1) == 3)"
   ]
  },
  {
   "cell_type": "code",
   "execution_count": 39,
   "id": "38e84b21",
   "metadata": {},
   "outputs": [],
   "source": [
    "was_heads_more_than_3 = ((determine_odds == 1).sum(axis=1) > 3)"
   ]
  },
  {
   "cell_type": "code",
   "execution_count": 40,
   "id": "171a4e29",
   "metadata": {},
   "outputs": [],
   "source": [
    "determine_odds[\"three_heads\"] = was_heads_3"
   ]
  },
  {
   "cell_type": "code",
   "execution_count": 41,
   "id": "a384808c",
   "metadata": {},
   "outputs": [],
   "source": [
    "determine_odds[\"is_three_heads_or_more\"] = was_heads_more_than_3"
   ]
  },
  {
   "cell_type": "code",
   "execution_count": 42,
   "id": "a43409c0",
   "metadata": {},
   "outputs": [
    {
     "data": {
      "text/html": [
       "<div>\n",
       "<style scoped>\n",
       "    .dataframe tbody tr th:only-of-type {\n",
       "        vertical-align: middle;\n",
       "    }\n",
       "\n",
       "    .dataframe tbody tr th {\n",
       "        vertical-align: top;\n",
       "    }\n",
       "\n",
       "    .dataframe thead th {\n",
       "        text-align: right;\n",
       "    }\n",
       "</style>\n",
       "<table border=\"1\" class=\"dataframe\">\n",
       "  <thead>\n",
       "    <tr style=\"text-align: right;\">\n",
       "      <th></th>\n",
       "      <th>0</th>\n",
       "      <th>1</th>\n",
       "      <th>2</th>\n",
       "      <th>3</th>\n",
       "      <th>4</th>\n",
       "      <th>5</th>\n",
       "      <th>6</th>\n",
       "      <th>7</th>\n",
       "      <th>three_heads</th>\n",
       "      <th>is_three_heads_or_more</th>\n",
       "    </tr>\n",
       "  </thead>\n",
       "  <tbody>\n",
       "    <tr>\n",
       "      <th>0</th>\n",
       "      <td>0</td>\n",
       "      <td>0</td>\n",
       "      <td>0</td>\n",
       "      <td>0</td>\n",
       "      <td>1</td>\n",
       "      <td>0</td>\n",
       "      <td>0</td>\n",
       "      <td>1</td>\n",
       "      <td>False</td>\n",
       "      <td>False</td>\n",
       "    </tr>\n",
       "    <tr>\n",
       "      <th>1</th>\n",
       "      <td>1</td>\n",
       "      <td>1</td>\n",
       "      <td>1</td>\n",
       "      <td>1</td>\n",
       "      <td>0</td>\n",
       "      <td>1</td>\n",
       "      <td>0</td>\n",
       "      <td>1</td>\n",
       "      <td>False</td>\n",
       "      <td>True</td>\n",
       "    </tr>\n",
       "    <tr>\n",
       "      <th>2</th>\n",
       "      <td>1</td>\n",
       "      <td>1</td>\n",
       "      <td>0</td>\n",
       "      <td>0</td>\n",
       "      <td>0</td>\n",
       "      <td>0</td>\n",
       "      <td>1</td>\n",
       "      <td>1</td>\n",
       "      <td>False</td>\n",
       "      <td>True</td>\n",
       "    </tr>\n",
       "    <tr>\n",
       "      <th>3</th>\n",
       "      <td>1</td>\n",
       "      <td>0</td>\n",
       "      <td>0</td>\n",
       "      <td>0</td>\n",
       "      <td>1</td>\n",
       "      <td>0</td>\n",
       "      <td>1</td>\n",
       "      <td>1</td>\n",
       "      <td>False</td>\n",
       "      <td>True</td>\n",
       "    </tr>\n",
       "    <tr>\n",
       "      <th>4</th>\n",
       "      <td>0</td>\n",
       "      <td>0</td>\n",
       "      <td>1</td>\n",
       "      <td>0</td>\n",
       "      <td>1</td>\n",
       "      <td>1</td>\n",
       "      <td>0</td>\n",
       "      <td>1</td>\n",
       "      <td>False</td>\n",
       "      <td>True</td>\n",
       "    </tr>\n",
       "    <tr>\n",
       "      <th>...</th>\n",
       "      <td>...</td>\n",
       "      <td>...</td>\n",
       "      <td>...</td>\n",
       "      <td>...</td>\n",
       "      <td>...</td>\n",
       "      <td>...</td>\n",
       "      <td>...</td>\n",
       "      <td>...</td>\n",
       "      <td>...</td>\n",
       "      <td>...</td>\n",
       "    </tr>\n",
       "    <tr>\n",
       "      <th>99995</th>\n",
       "      <td>1</td>\n",
       "      <td>0</td>\n",
       "      <td>1</td>\n",
       "      <td>1</td>\n",
       "      <td>0</td>\n",
       "      <td>1</td>\n",
       "      <td>0</td>\n",
       "      <td>1</td>\n",
       "      <td>False</td>\n",
       "      <td>True</td>\n",
       "    </tr>\n",
       "    <tr>\n",
       "      <th>99996</th>\n",
       "      <td>1</td>\n",
       "      <td>1</td>\n",
       "      <td>1</td>\n",
       "      <td>0</td>\n",
       "      <td>0</td>\n",
       "      <td>0</td>\n",
       "      <td>1</td>\n",
       "      <td>1</td>\n",
       "      <td>False</td>\n",
       "      <td>True</td>\n",
       "    </tr>\n",
       "    <tr>\n",
       "      <th>99997</th>\n",
       "      <td>1</td>\n",
       "      <td>0</td>\n",
       "      <td>1</td>\n",
       "      <td>0</td>\n",
       "      <td>1</td>\n",
       "      <td>1</td>\n",
       "      <td>1</td>\n",
       "      <td>1</td>\n",
       "      <td>False</td>\n",
       "      <td>True</td>\n",
       "    </tr>\n",
       "    <tr>\n",
       "      <th>99998</th>\n",
       "      <td>1</td>\n",
       "      <td>0</td>\n",
       "      <td>0</td>\n",
       "      <td>1</td>\n",
       "      <td>1</td>\n",
       "      <td>0</td>\n",
       "      <td>1</td>\n",
       "      <td>0</td>\n",
       "      <td>False</td>\n",
       "      <td>True</td>\n",
       "    </tr>\n",
       "    <tr>\n",
       "      <th>99999</th>\n",
       "      <td>1</td>\n",
       "      <td>0</td>\n",
       "      <td>0</td>\n",
       "      <td>1</td>\n",
       "      <td>1</td>\n",
       "      <td>1</td>\n",
       "      <td>1</td>\n",
       "      <td>1</td>\n",
       "      <td>False</td>\n",
       "      <td>True</td>\n",
       "    </tr>\n",
       "  </tbody>\n",
       "</table>\n",
       "<p>100000 rows × 10 columns</p>\n",
       "</div>"
      ],
      "text/plain": [
       "       0  1  2  3  4  5  6  7  three_heads  is_three_heads_or_more\n",
       "0      0  0  0  0  1  0  0  1        False                   False\n",
       "1      1  1  1  1  0  1  0  1        False                    True\n",
       "2      1  1  0  0  0  0  1  1        False                    True\n",
       "3      1  0  0  0  1  0  1  1        False                    True\n",
       "4      0  0  1  0  1  1  0  1        False                    True\n",
       "...   .. .. .. .. .. .. .. ..          ...                     ...\n",
       "99995  1  0  1  1  0  1  0  1        False                    True\n",
       "99996  1  1  1  0  0  0  1  1        False                    True\n",
       "99997  1  0  1  0  1  1  1  1        False                    True\n",
       "99998  1  0  0  1  1  0  1  0        False                    True\n",
       "99999  1  0  0  1  1  1  1  1        False                    True\n",
       "\n",
       "[100000 rows x 10 columns]"
      ]
     },
     "execution_count": 42,
     "metadata": {},
     "output_type": "execute_result"
    }
   ],
   "source": [
    "determine_odds"
   ]
  },
  {
   "cell_type": "code",
   "execution_count": 43,
   "id": "641a923d",
   "metadata": {},
   "outputs": [
    {
     "data": {
      "text/plain": [
       "three_heads\n",
       "False    77872\n",
       "True     22128\n",
       "Name: count, dtype: int64"
      ]
     },
     "execution_count": 43,
     "metadata": {},
     "output_type": "execute_result"
    }
   ],
   "source": [
    "determine_odds[\"three_heads\"].value_counts()"
   ]
  },
  {
   "cell_type": "code",
   "execution_count": 2,
   "id": "79fc99b2",
   "metadata": {},
   "outputs": [
    {
     "data": {
      "text/plain": [
       "21.9"
      ]
     },
     "execution_count": 2,
     "metadata": {},
     "output_type": "execute_result"
    }
   ],
   "source": [
    "round((219013/1000000)*100,2) #21% chance of three heads"
   ]
  },
  {
   "cell_type": "code",
   "execution_count": 44,
   "id": "f913d4c0",
   "metadata": {},
   "outputs": [
    {
     "data": {
      "text/plain": [
       "is_three_heads_or_more\n",
       "True     63372\n",
       "False    36628\n",
       "Name: count, dtype: int64"
      ]
     },
     "execution_count": 44,
     "metadata": {},
     "output_type": "execute_result"
    }
   ],
   "source": [
    "determine_odds[\"is_three_heads_or_more\"].value_counts()"
   ]
  },
  {
   "cell_type": "code",
   "execution_count": 25,
   "id": "7130ec79",
   "metadata": {},
   "outputs": [
    {
     "data": {
      "text/plain": [
       "36.31"
      ]
     },
     "execution_count": 25,
     "metadata": {},
     "output_type": "execute_result"
    }
   ],
   "source": [
    "round((363071/1000000)*100,2) #63% chance of more than three heads"
   ]
  },
  {
   "cell_type": "code",
   "execution_count": 45,
   "id": "d3dcc0ae",
   "metadata": {},
   "outputs": [],
   "source": [
    "cohorts = ncols = 2\n",
    "trials = nrows = 1000000\n",
    "webdev_cohort_1 =1\n",
    "webdev_cohort_2 = 2\n",
    "webdev_cohort_3 = 3\n",
    "data_science_cohort = 4\n",
    "\n",
    "billboards = np.random.choice([webdev_cohort_1,webdev_cohort_2,webdev_cohort_3,data_science_cohort], trials * cohorts).reshape(nrows, ncols)"
   ]
  },
  {
   "cell_type": "code",
   "execution_count": 46,
   "id": "f604a6ba",
   "metadata": {},
   "outputs": [
    {
     "data": {
      "text/plain": [
       "array([[4, 2],\n",
       "       [3, 3],\n",
       "       [1, 2],\n",
       "       ...,\n",
       "       [2, 4],\n",
       "       [2, 1],\n",
       "       [4, 3]])"
      ]
     },
     "execution_count": 46,
     "metadata": {},
     "output_type": "execute_result"
    }
   ],
   "source": [
    "billboards"
   ]
  },
  {
   "cell_type": "code",
   "execution_count": 47,
   "id": "5731142e",
   "metadata": {},
   "outputs": [],
   "source": [
    "ds_billboard = pd.DataFrame(billboards)"
   ]
  },
  {
   "cell_type": "code",
   "execution_count": 48,
   "id": "072a040d",
   "metadata": {},
   "outputs": [
    {
     "data": {
      "text/html": [
       "<div>\n",
       "<style scoped>\n",
       "    .dataframe tbody tr th:only-of-type {\n",
       "        vertical-align: middle;\n",
       "    }\n",
       "\n",
       "    .dataframe tbody tr th {\n",
       "        vertical-align: top;\n",
       "    }\n",
       "\n",
       "    .dataframe thead th {\n",
       "        text-align: right;\n",
       "    }\n",
       "</style>\n",
       "<table border=\"1\" class=\"dataframe\">\n",
       "  <thead>\n",
       "    <tr style=\"text-align: right;\">\n",
       "      <th></th>\n",
       "      <th>0</th>\n",
       "      <th>1</th>\n",
       "    </tr>\n",
       "  </thead>\n",
       "  <tbody>\n",
       "    <tr>\n",
       "      <th>0</th>\n",
       "      <td>4</td>\n",
       "      <td>2</td>\n",
       "    </tr>\n",
       "    <tr>\n",
       "      <th>1</th>\n",
       "      <td>3</td>\n",
       "      <td>3</td>\n",
       "    </tr>\n",
       "    <tr>\n",
       "      <th>2</th>\n",
       "      <td>1</td>\n",
       "      <td>2</td>\n",
       "    </tr>\n",
       "    <tr>\n",
       "      <th>3</th>\n",
       "      <td>4</td>\n",
       "      <td>1</td>\n",
       "    </tr>\n",
       "    <tr>\n",
       "      <th>4</th>\n",
       "      <td>3</td>\n",
       "      <td>1</td>\n",
       "    </tr>\n",
       "    <tr>\n",
       "      <th>...</th>\n",
       "      <td>...</td>\n",
       "      <td>...</td>\n",
       "    </tr>\n",
       "    <tr>\n",
       "      <th>999995</th>\n",
       "      <td>4</td>\n",
       "      <td>4</td>\n",
       "    </tr>\n",
       "    <tr>\n",
       "      <th>999996</th>\n",
       "      <td>3</td>\n",
       "      <td>3</td>\n",
       "    </tr>\n",
       "    <tr>\n",
       "      <th>999997</th>\n",
       "      <td>2</td>\n",
       "      <td>4</td>\n",
       "    </tr>\n",
       "    <tr>\n",
       "      <th>999998</th>\n",
       "      <td>2</td>\n",
       "      <td>1</td>\n",
       "    </tr>\n",
       "    <tr>\n",
       "      <th>999999</th>\n",
       "      <td>4</td>\n",
       "      <td>3</td>\n",
       "    </tr>\n",
       "  </tbody>\n",
       "</table>\n",
       "<p>1000000 rows × 2 columns</p>\n",
       "</div>"
      ],
      "text/plain": [
       "        0  1\n",
       "0       4  2\n",
       "1       3  3\n",
       "2       1  2\n",
       "3       4  1\n",
       "4       3  1\n",
       "...    .. ..\n",
       "999995  4  4\n",
       "999996  3  3\n",
       "999997  2  4\n",
       "999998  2  1\n",
       "999999  4  3\n",
       "\n",
       "[1000000 rows x 2 columns]"
      ]
     },
     "execution_count": 48,
     "metadata": {},
     "output_type": "execute_result"
    }
   ],
   "source": [
    "ds_billboard"
   ]
  },
  {
   "cell_type": "code",
   "execution_count": 49,
   "id": "a25e45a8",
   "metadata": {},
   "outputs": [
    {
     "data": {
      "text/plain": [
       "0         False\n",
       "1         False\n",
       "2         False\n",
       "3         False\n",
       "4         False\n",
       "          ...  \n",
       "999995     True\n",
       "999996    False\n",
       "999997    False\n",
       "999998    False\n",
       "999999    False\n",
       "Length: 1000000, dtype: bool"
      ]
     },
     "execution_count": 49,
     "metadata": {},
     "output_type": "execute_result"
    }
   ],
   "source": [
    "(ds_billboard == 4).sum(axis=1) >= 2"
   ]
  },
  {
   "cell_type": "code",
   "execution_count": 50,
   "id": "ee2f2202",
   "metadata": {},
   "outputs": [],
   "source": [
    "ds_billboard[\"two_data_science\"] = (ds_billboard == 4).sum(axis=1) >= 2"
   ]
  },
  {
   "cell_type": "code",
   "execution_count": 51,
   "id": "2b4daf62",
   "metadata": {},
   "outputs": [
    {
     "data": {
      "text/html": [
       "<div>\n",
       "<style scoped>\n",
       "    .dataframe tbody tr th:only-of-type {\n",
       "        vertical-align: middle;\n",
       "    }\n",
       "\n",
       "    .dataframe tbody tr th {\n",
       "        vertical-align: top;\n",
       "    }\n",
       "\n",
       "    .dataframe thead th {\n",
       "        text-align: right;\n",
       "    }\n",
       "</style>\n",
       "<table border=\"1\" class=\"dataframe\">\n",
       "  <thead>\n",
       "    <tr style=\"text-align: right;\">\n",
       "      <th></th>\n",
       "      <th>0</th>\n",
       "      <th>1</th>\n",
       "      <th>two_data_science</th>\n",
       "    </tr>\n",
       "  </thead>\n",
       "  <tbody>\n",
       "    <tr>\n",
       "      <th>0</th>\n",
       "      <td>4</td>\n",
       "      <td>2</td>\n",
       "      <td>False</td>\n",
       "    </tr>\n",
       "    <tr>\n",
       "      <th>1</th>\n",
       "      <td>3</td>\n",
       "      <td>3</td>\n",
       "      <td>False</td>\n",
       "    </tr>\n",
       "    <tr>\n",
       "      <th>2</th>\n",
       "      <td>1</td>\n",
       "      <td>2</td>\n",
       "      <td>False</td>\n",
       "    </tr>\n",
       "    <tr>\n",
       "      <th>3</th>\n",
       "      <td>4</td>\n",
       "      <td>1</td>\n",
       "      <td>False</td>\n",
       "    </tr>\n",
       "    <tr>\n",
       "      <th>4</th>\n",
       "      <td>3</td>\n",
       "      <td>1</td>\n",
       "      <td>False</td>\n",
       "    </tr>\n",
       "    <tr>\n",
       "      <th>...</th>\n",
       "      <td>...</td>\n",
       "      <td>...</td>\n",
       "      <td>...</td>\n",
       "    </tr>\n",
       "    <tr>\n",
       "      <th>999995</th>\n",
       "      <td>4</td>\n",
       "      <td>4</td>\n",
       "      <td>True</td>\n",
       "    </tr>\n",
       "    <tr>\n",
       "      <th>999996</th>\n",
       "      <td>3</td>\n",
       "      <td>3</td>\n",
       "      <td>False</td>\n",
       "    </tr>\n",
       "    <tr>\n",
       "      <th>999997</th>\n",
       "      <td>2</td>\n",
       "      <td>4</td>\n",
       "      <td>False</td>\n",
       "    </tr>\n",
       "    <tr>\n",
       "      <th>999998</th>\n",
       "      <td>2</td>\n",
       "      <td>1</td>\n",
       "      <td>False</td>\n",
       "    </tr>\n",
       "    <tr>\n",
       "      <th>999999</th>\n",
       "      <td>4</td>\n",
       "      <td>3</td>\n",
       "      <td>False</td>\n",
       "    </tr>\n",
       "  </tbody>\n",
       "</table>\n",
       "<p>1000000 rows × 3 columns</p>\n",
       "</div>"
      ],
      "text/plain": [
       "        0  1  two_data_science\n",
       "0       4  2             False\n",
       "1       3  3             False\n",
       "2       1  2             False\n",
       "3       4  1             False\n",
       "4       3  1             False\n",
       "...    .. ..               ...\n",
       "999995  4  4              True\n",
       "999996  3  3             False\n",
       "999997  2  4             False\n",
       "999998  2  1             False\n",
       "999999  4  3             False\n",
       "\n",
       "[1000000 rows x 3 columns]"
      ]
     },
     "execution_count": 51,
     "metadata": {},
     "output_type": "execute_result"
    }
   ],
   "source": [
    "ds_billboard"
   ]
  },
  {
   "cell_type": "code",
   "execution_count": 52,
   "id": "251cb373",
   "metadata": {},
   "outputs": [
    {
     "data": {
      "text/plain": [
       "two_data_science\n",
       "False    937210\n",
       "True      62790\n",
       "Name: count, dtype: int64"
      ]
     },
     "execution_count": 52,
     "metadata": {},
     "output_type": "execute_result"
    }
   ],
   "source": [
    "ds_billboard[\"two_data_science\"].value_counts() #6.7 % chance of two data science billboards"
   ]
  },
  {
   "cell_type": "code",
   "execution_count": null,
   "id": "32a5a6bc",
   "metadata": {},
   "outputs": [],
   "source": []
  },
  {
   "cell_type": "code",
   "execution_count": 53,
   "id": "d2239996",
   "metadata": {},
   "outputs": [],
   "source": [
    "\n",
    "pop_tart =3\n",
    "dev = 1.5\n",
    "days= 5\n",
    "trials=100000"
   ]
  },
  {
   "cell_type": "code",
   "execution_count": 54,
   "id": "c4e4c1de",
   "metadata": {},
   "outputs": [],
   "source": [
    "daily_tarts = np.random.normal(pop_tart,dev,(trials,days)) #FIX TARTS"
   ]
  },
  {
   "cell_type": "code",
   "execution_count": null,
   "id": "95ec2948",
   "metadata": {},
   "outputs": [],
   "source": []
  },
  {
   "cell_type": "code",
   "execution_count": 56,
   "id": "ba3abc16",
   "metadata": {},
   "outputs": [],
   "source": [
    "weekly_poptarts = daily_tarts.sum(axis=1)"
   ]
  },
  {
   "cell_type": "code",
   "execution_count": 57,
   "id": "27e7cbe0",
   "metadata": {},
   "outputs": [
    {
     "data": {
      "text/plain": [
       "array([14.57716943, 12.69433107, 15.49202468, ..., 18.80449573,\n",
       "       15.22430975, 17.11720525])"
      ]
     },
     "execution_count": 57,
     "metadata": {},
     "output_type": "execute_result"
    }
   ],
   "source": [
    "weekly_poptarts"
   ]
  },
  {
   "cell_type": "code",
   "execution_count": 89,
   "id": "0cf50da3",
   "metadata": {},
   "outputs": [
    {
     "data": {
      "text/plain": [
       "0.61477"
      ]
     },
     "execution_count": 89,
     "metadata": {},
     "output_type": "execute_result"
    }
   ],
   "source": [
    "((17 - weekly_poptarts)>=1).mean()"
   ]
  },
  {
   "cell_type": "code",
   "execution_count": 59,
   "id": "8a6dfa35",
   "metadata": {},
   "outputs": [],
   "source": [
    "men = 178\n",
    "st_men = 8\n",
    "women = 170\n",
    "st_women = 6\n",
    "trials =100000"
   ]
  },
  {
   "cell_type": "code",
   "execution_count": 63,
   "id": "ecd693f5",
   "metadata": {},
   "outputs": [],
   "source": [
    "men_heights =  np.random.normal(men,st_men,trials)\n",
    "women_heights =  np.random.normal(women,st_women,trials)"
   ]
  },
  {
   "cell_type": "code",
   "execution_count": 64,
   "id": "8118e83c",
   "metadata": {},
   "outputs": [
    {
     "data": {
      "text/plain": [
       "0.21084"
      ]
     },
     "execution_count": 64,
     "metadata": {},
     "output_type": "execute_result"
    }
   ],
   "source": [
    "(women_heights > men_heights).mean()"
   ]
  },
  {
   "cell_type": "code",
   "execution_count": 90,
   "id": "9e4a4d87",
   "metadata": {},
   "outputs": [],
   "source": [
    "outcomes = [\"pass\",\"fail\"] #FIX\n",
    "maybees =[249/250,1/250]\n",
    "students = 50\n",
    "trails =100000"
   ]
  },
  {
   "cell_type": "code",
   "execution_count": 102,
   "id": "c3cec9bc",
   "metadata": {},
   "outputs": [],
   "source": [
    "install = np.random.choice(outcomes,(trials,students),p=maybees)\n",
    "install\n",
    "total_fails = (install== \"fail\").sum(axis=1)"
   ]
  },
  {
   "cell_type": "code",
   "execution_count": 103,
   "id": "48248049",
   "metadata": {},
   "outputs": [
    {
     "data": {
      "text/plain": [
       "array([1, 1, 0, 1, 0, 0, 1, 0, 0, 0, 0, 0, 1, 0, 0, 0, 1, 0, 0, 0, 2, 0,\n",
       "       0, 0, 1, 0, 0, 0, 0, 1, 1, 0, 0, 0, 0, 0, 0, 0, 1, 0, 0, 0, 0, 0,\n",
       "       0, 0, 0, 0, 1, 0, 1, 0, 0, 0, 1, 0, 0, 1, 0, 0, 0, 0, 0, 0, 0, 0,\n",
       "       1, 0, 0, 0, 0, 0, 0, 1, 0, 1, 0, 0, 0, 0, 0, 0, 1, 0, 2, 0, 0, 0,\n",
       "       0, 0, 0, 0, 0, 0, 0, 0, 0, 0, 0, 0])"
      ]
     },
     "execution_count": 103,
     "metadata": {},
     "output_type": "execute_result"
    }
   ],
   "source": [
    "total_fails"
   ]
  },
  {
   "cell_type": "code",
   "execution_count": 104,
   "id": "8041f6dd",
   "metadata": {},
   "outputs": [
    {
     "data": {
      "text/plain": [
       "0.8"
      ]
     },
     "execution_count": 104,
     "metadata": {},
     "output_type": "execute_result"
    }
   ],
   "source": [
    "(total_fails == 0).mean()"
   ]
  },
  {
   "cell_type": "code",
   "execution_count": 107,
   "id": "f64ec46a",
   "metadata": {},
   "outputs": [
    {
     "data": {
      "text/plain": [
       "0.72"
      ]
     },
     "execution_count": 107,
     "metadata": {},
     "output_type": "execute_result"
    }
   ],
   "source": [
    "#update to 100 students\n",
    "students = 100\n",
    "\n",
    "install = np.random.choice(outcomes, (trials, students),\n",
    "                p=maybees)\n",
    "total_fails = (install == 'fail').sum(axis=1)\n",
    "\n",
    "(total_fails == 0).mean()"
   ]
  },
  {
   "cell_type": "code",
   "execution_count": 108,
   "id": "9c36582f",
   "metadata": {},
   "outputs": [
    {
     "data": {
      "text/plain": [
       "0.54"
      ]
     },
     "execution_count": 108,
     "metadata": {},
     "output_type": "execute_result"
    }
   ],
   "source": [
    "#update to 150 students\n",
    "students = 150\n",
    "\n",
    "install = np.random.choice(outcomes, (trials, students),\n",
    "                p=maybees)\n",
    "total_fails = (install == 'fail').sum(axis=1)\n",
    "\n",
    "(total_fails == 0).mean()"
   ]
  },
  {
   "cell_type": "code",
   "execution_count": 109,
   "id": "112f18de",
   "metadata": {},
   "outputs": [
    {
     "data": {
      "text/plain": [
       "0.22"
      ]
     },
     "execution_count": 109,
     "metadata": {},
     "output_type": "execute_result"
    }
   ],
   "source": [
    "#update to 450 students\n",
    "students = 450\n",
    "\n",
    "install = np.random.choice(outcomes, (trials, students),\n",
    "                p=maybees)\n",
    "total_fails = (install == 'fail').sum(axis=1)\n",
    "\n",
    "(total_fails == 0).mean()"
   ]
  },
  {
   "cell_type": "code",
   "execution_count": 100,
   "id": "f0979081",
   "metadata": {},
   "outputs": [],
   "source": [
    "people = ncols = 23\n",
    "trials = nrows= 100\n",
    "same_birth = np.random.choice(birthday, trials * people).reshape(nrows, ncols)"
   ]
  },
  {
   "cell_type": "code",
   "execution_count": null,
   "id": "d2ce563b",
   "metadata": {},
   "outputs": [],
   "source": []
  },
  {
   "cell_type": "code",
   "execution_count": 14,
   "id": "e6ad05b8",
   "metadata": {},
   "outputs": [],
   "source": [
    "birthday = range(1,366)\n",
    "same_birth2 = np.random.choice(birthday)"
   ]
  },
  {
   "cell_type": "code",
   "execution_count": 17,
   "id": "8e919067",
   "metadata": {},
   "outputs": [
    {
     "data": {
      "text/plain": [
       "array([[ 74, 223, 352, ...,  89, 150, 299],\n",
       "       [ 81, 115, 234, ..., 208, 214,   4],\n",
       "       [186,  45,  34, ...,   1, 200, 161],\n",
       "       ...,\n",
       "       [163, 339,  61, ..., 186, 333,  91],\n",
       "       [102, 290, 288, ..., 314, 108,  95],\n",
       "       [124, 121, 148, ..., 320, 209, 248]])"
      ]
     },
     "execution_count": 17,
     "metadata": {},
     "output_type": "execute_result"
    }
   ],
   "source": [
    "same_birth"
   ]
  },
  {
   "cell_type": "code",
   "execution_count": 75,
   "id": "cb511317",
   "metadata": {},
   "outputs": [],
   "source": [
    "p_truck = 0.7 #FIX\n",
    "days = 3\n",
    "trials = 100000"
   ]
  },
  {
   "cell_type": "code",
   "execution_count": 78,
   "id": "84674138",
   "metadata": {},
   "outputs": [],
   "source": [
    " is_there_truck = np.random.random((trials,days))"
   ]
  },
  {
   "cell_type": "code",
   "execution_count": 79,
   "id": "9d68c4f4",
   "metadata": {},
   "outputs": [],
   "source": [
    "yes_truck =  is_there_truck < p_truck"
   ]
  },
  {
   "cell_type": "code",
   "execution_count": 80,
   "id": "358ae73c",
   "metadata": {},
   "outputs": [
    {
     "data": {
      "text/plain": [
       "array([[ True,  True, False],\n",
       "       [ True, False,  True],\n",
       "       [ True,  True,  True],\n",
       "       ...,\n",
       "       [ True,  True,  True],\n",
       "       [ True, False,  True],\n",
       "       [ True,  True, False]])"
      ]
     },
     "execution_count": 80,
     "metadata": {},
     "output_type": "execute_result"
    }
   ],
   "source": [
    "yes_truck"
   ]
  },
  {
   "cell_type": "code",
   "execution_count": 110,
   "id": "54bf4d69",
   "metadata": {},
   "outputs": [
    {
     "data": {
      "text/plain": [
       "0.02702"
      ]
     },
     "execution_count": 110,
     "metadata": {},
     "output_type": "execute_result"
    }
   ],
   "source": [
    "(yes_truck.sum(axis=1)==0).mean()"
   ]
  },
  {
   "cell_type": "code",
   "execution_count": 113,
   "id": "af1db646",
   "metadata": {},
   "outputs": [],
   "source": [
    "modays=5"
   ]
  },
  {
   "cell_type": "code",
   "execution_count": 116,
   "id": "cbba6dd3",
   "metadata": {},
   "outputs": [
    {
     "data": {
      "text/plain": [
       "0.97298"
      ]
     },
     "execution_count": 116,
     "metadata": {},
     "output_type": "execute_result"
    }
   ],
   "source": [
    "is_there_truck_ = np.random.random((trials, modays))\n",
    "\n",
    "yes_truck = is_there_truck < p_truck\n",
    "\n",
    "#update to show at least one truck shows up this week\n",
    "(yes_truck.sum(axis=1) >= 1).mean()"
   ]
  },
  {
   "cell_type": "code",
   "execution_count": 81,
   "id": "227c32aa",
   "metadata": {},
   "outputs": [],
   "source": [
    "people = 23\n",
    "birthday = list(range(1,366))\n",
    "trials = 100000"
   ]
  },
  {
   "cell_type": "code",
   "execution_count": 82,
   "id": "c9b38eda",
   "metadata": {},
   "outputs": [],
   "source": [
    "samesies = np.random.choice(birthday,(trials,people))"
   ]
  },
  {
   "cell_type": "code",
   "execution_count": 83,
   "id": "f41a1e6b",
   "metadata": {},
   "outputs": [],
   "source": [
    "samesies = pd.DataFrame(samesies)"
   ]
  },
  {
   "cell_type": "code",
   "execution_count": 84,
   "id": "62188baa",
   "metadata": {},
   "outputs": [
    {
     "data": {
      "text/html": [
       "<div>\n",
       "<style scoped>\n",
       "    .dataframe tbody tr th:only-of-type {\n",
       "        vertical-align: middle;\n",
       "    }\n",
       "\n",
       "    .dataframe tbody tr th {\n",
       "        vertical-align: top;\n",
       "    }\n",
       "\n",
       "    .dataframe thead th {\n",
       "        text-align: right;\n",
       "    }\n",
       "</style>\n",
       "<table border=\"1\" class=\"dataframe\">\n",
       "  <thead>\n",
       "    <tr style=\"text-align: right;\">\n",
       "      <th></th>\n",
       "      <th>0</th>\n",
       "      <th>1</th>\n",
       "      <th>2</th>\n",
       "      <th>3</th>\n",
       "      <th>4</th>\n",
       "      <th>5</th>\n",
       "      <th>6</th>\n",
       "      <th>7</th>\n",
       "      <th>8</th>\n",
       "      <th>9</th>\n",
       "      <th>...</th>\n",
       "      <th>13</th>\n",
       "      <th>14</th>\n",
       "      <th>15</th>\n",
       "      <th>16</th>\n",
       "      <th>17</th>\n",
       "      <th>18</th>\n",
       "      <th>19</th>\n",
       "      <th>20</th>\n",
       "      <th>21</th>\n",
       "      <th>22</th>\n",
       "    </tr>\n",
       "  </thead>\n",
       "  <tbody>\n",
       "    <tr>\n",
       "      <th>0</th>\n",
       "      <td>19</td>\n",
       "      <td>175</td>\n",
       "      <td>142</td>\n",
       "      <td>142</td>\n",
       "      <td>269</td>\n",
       "      <td>71</td>\n",
       "      <td>118</td>\n",
       "      <td>121</td>\n",
       "      <td>205</td>\n",
       "      <td>182</td>\n",
       "      <td>...</td>\n",
       "      <td>52</td>\n",
       "      <td>172</td>\n",
       "      <td>78</td>\n",
       "      <td>184</td>\n",
       "      <td>18</td>\n",
       "      <td>280</td>\n",
       "      <td>116</td>\n",
       "      <td>195</td>\n",
       "      <td>50</td>\n",
       "      <td>283</td>\n",
       "    </tr>\n",
       "    <tr>\n",
       "      <th>1</th>\n",
       "      <td>180</td>\n",
       "      <td>60</td>\n",
       "      <td>241</td>\n",
       "      <td>291</td>\n",
       "      <td>202</td>\n",
       "      <td>294</td>\n",
       "      <td>329</td>\n",
       "      <td>188</td>\n",
       "      <td>319</td>\n",
       "      <td>324</td>\n",
       "      <td>...</td>\n",
       "      <td>143</td>\n",
       "      <td>51</td>\n",
       "      <td>315</td>\n",
       "      <td>181</td>\n",
       "      <td>277</td>\n",
       "      <td>179</td>\n",
       "      <td>124</td>\n",
       "      <td>135</td>\n",
       "      <td>331</td>\n",
       "      <td>50</td>\n",
       "    </tr>\n",
       "    <tr>\n",
       "      <th>2</th>\n",
       "      <td>295</td>\n",
       "      <td>25</td>\n",
       "      <td>68</td>\n",
       "      <td>150</td>\n",
       "      <td>29</td>\n",
       "      <td>219</td>\n",
       "      <td>86</td>\n",
       "      <td>335</td>\n",
       "      <td>181</td>\n",
       "      <td>237</td>\n",
       "      <td>...</td>\n",
       "      <td>156</td>\n",
       "      <td>160</td>\n",
       "      <td>298</td>\n",
       "      <td>352</td>\n",
       "      <td>78</td>\n",
       "      <td>62</td>\n",
       "      <td>207</td>\n",
       "      <td>134</td>\n",
       "      <td>39</td>\n",
       "      <td>344</td>\n",
       "    </tr>\n",
       "    <tr>\n",
       "      <th>3</th>\n",
       "      <td>146</td>\n",
       "      <td>46</td>\n",
       "      <td>201</td>\n",
       "      <td>289</td>\n",
       "      <td>261</td>\n",
       "      <td>63</td>\n",
       "      <td>323</td>\n",
       "      <td>151</td>\n",
       "      <td>357</td>\n",
       "      <td>15</td>\n",
       "      <td>...</td>\n",
       "      <td>183</td>\n",
       "      <td>359</td>\n",
       "      <td>281</td>\n",
       "      <td>355</td>\n",
       "      <td>294</td>\n",
       "      <td>291</td>\n",
       "      <td>304</td>\n",
       "      <td>45</td>\n",
       "      <td>143</td>\n",
       "      <td>26</td>\n",
       "    </tr>\n",
       "    <tr>\n",
       "      <th>4</th>\n",
       "      <td>124</td>\n",
       "      <td>141</td>\n",
       "      <td>10</td>\n",
       "      <td>243</td>\n",
       "      <td>278</td>\n",
       "      <td>118</td>\n",
       "      <td>142</td>\n",
       "      <td>320</td>\n",
       "      <td>6</td>\n",
       "      <td>202</td>\n",
       "      <td>...</td>\n",
       "      <td>200</td>\n",
       "      <td>96</td>\n",
       "      <td>87</td>\n",
       "      <td>147</td>\n",
       "      <td>328</td>\n",
       "      <td>300</td>\n",
       "      <td>50</td>\n",
       "      <td>344</td>\n",
       "      <td>278</td>\n",
       "      <td>254</td>\n",
       "    </tr>\n",
       "    <tr>\n",
       "      <th>...</th>\n",
       "      <td>...</td>\n",
       "      <td>...</td>\n",
       "      <td>...</td>\n",
       "      <td>...</td>\n",
       "      <td>...</td>\n",
       "      <td>...</td>\n",
       "      <td>...</td>\n",
       "      <td>...</td>\n",
       "      <td>...</td>\n",
       "      <td>...</td>\n",
       "      <td>...</td>\n",
       "      <td>...</td>\n",
       "      <td>...</td>\n",
       "      <td>...</td>\n",
       "      <td>...</td>\n",
       "      <td>...</td>\n",
       "      <td>...</td>\n",
       "      <td>...</td>\n",
       "      <td>...</td>\n",
       "      <td>...</td>\n",
       "      <td>...</td>\n",
       "    </tr>\n",
       "    <tr>\n",
       "      <th>99995</th>\n",
       "      <td>180</td>\n",
       "      <td>78</td>\n",
       "      <td>355</td>\n",
       "      <td>161</td>\n",
       "      <td>205</td>\n",
       "      <td>170</td>\n",
       "      <td>348</td>\n",
       "      <td>320</td>\n",
       "      <td>116</td>\n",
       "      <td>273</td>\n",
       "      <td>...</td>\n",
       "      <td>244</td>\n",
       "      <td>216</td>\n",
       "      <td>33</td>\n",
       "      <td>29</td>\n",
       "      <td>279</td>\n",
       "      <td>66</td>\n",
       "      <td>26</td>\n",
       "      <td>108</td>\n",
       "      <td>301</td>\n",
       "      <td>315</td>\n",
       "    </tr>\n",
       "    <tr>\n",
       "      <th>99996</th>\n",
       "      <td>266</td>\n",
       "      <td>302</td>\n",
       "      <td>108</td>\n",
       "      <td>172</td>\n",
       "      <td>9</td>\n",
       "      <td>73</td>\n",
       "      <td>72</td>\n",
       "      <td>56</td>\n",
       "      <td>294</td>\n",
       "      <td>359</td>\n",
       "      <td>...</td>\n",
       "      <td>181</td>\n",
       "      <td>338</td>\n",
       "      <td>159</td>\n",
       "      <td>77</td>\n",
       "      <td>340</td>\n",
       "      <td>262</td>\n",
       "      <td>149</td>\n",
       "      <td>80</td>\n",
       "      <td>197</td>\n",
       "      <td>190</td>\n",
       "    </tr>\n",
       "    <tr>\n",
       "      <th>99997</th>\n",
       "      <td>329</td>\n",
       "      <td>243</td>\n",
       "      <td>252</td>\n",
       "      <td>221</td>\n",
       "      <td>50</td>\n",
       "      <td>102</td>\n",
       "      <td>205</td>\n",
       "      <td>248</td>\n",
       "      <td>223</td>\n",
       "      <td>83</td>\n",
       "      <td>...</td>\n",
       "      <td>228</td>\n",
       "      <td>56</td>\n",
       "      <td>295</td>\n",
       "      <td>323</td>\n",
       "      <td>32</td>\n",
       "      <td>106</td>\n",
       "      <td>59</td>\n",
       "      <td>226</td>\n",
       "      <td>277</td>\n",
       "      <td>171</td>\n",
       "    </tr>\n",
       "    <tr>\n",
       "      <th>99998</th>\n",
       "      <td>241</td>\n",
       "      <td>79</td>\n",
       "      <td>7</td>\n",
       "      <td>95</td>\n",
       "      <td>71</td>\n",
       "      <td>26</td>\n",
       "      <td>94</td>\n",
       "      <td>282</td>\n",
       "      <td>66</td>\n",
       "      <td>102</td>\n",
       "      <td>...</td>\n",
       "      <td>55</td>\n",
       "      <td>106</td>\n",
       "      <td>55</td>\n",
       "      <td>309</td>\n",
       "      <td>273</td>\n",
       "      <td>318</td>\n",
       "      <td>279</td>\n",
       "      <td>148</td>\n",
       "      <td>218</td>\n",
       "      <td>61</td>\n",
       "    </tr>\n",
       "    <tr>\n",
       "      <th>99999</th>\n",
       "      <td>220</td>\n",
       "      <td>9</td>\n",
       "      <td>268</td>\n",
       "      <td>341</td>\n",
       "      <td>353</td>\n",
       "      <td>271</td>\n",
       "      <td>227</td>\n",
       "      <td>314</td>\n",
       "      <td>354</td>\n",
       "      <td>27</td>\n",
       "      <td>...</td>\n",
       "      <td>339</td>\n",
       "      <td>354</td>\n",
       "      <td>149</td>\n",
       "      <td>183</td>\n",
       "      <td>84</td>\n",
       "      <td>208</td>\n",
       "      <td>7</td>\n",
       "      <td>172</td>\n",
       "      <td>111</td>\n",
       "      <td>314</td>\n",
       "    </tr>\n",
       "  </tbody>\n",
       "</table>\n",
       "<p>100000 rows × 23 columns</p>\n",
       "</div>"
      ],
      "text/plain": [
       "        0    1    2    3    4    5    6    7    8    9   ...   13   14   15  \\\n",
       "0       19  175  142  142  269   71  118  121  205  182  ...   52  172   78   \n",
       "1      180   60  241  291  202  294  329  188  319  324  ...  143   51  315   \n",
       "2      295   25   68  150   29  219   86  335  181  237  ...  156  160  298   \n",
       "3      146   46  201  289  261   63  323  151  357   15  ...  183  359  281   \n",
       "4      124  141   10  243  278  118  142  320    6  202  ...  200   96   87   \n",
       "...    ...  ...  ...  ...  ...  ...  ...  ...  ...  ...  ...  ...  ...  ...   \n",
       "99995  180   78  355  161  205  170  348  320  116  273  ...  244  216   33   \n",
       "99996  266  302  108  172    9   73   72   56  294  359  ...  181  338  159   \n",
       "99997  329  243  252  221   50  102  205  248  223   83  ...  228   56  295   \n",
       "99998  241   79    7   95   71   26   94  282   66  102  ...   55  106   55   \n",
       "99999  220    9  268  341  353  271  227  314  354   27  ...  339  354  149   \n",
       "\n",
       "        16   17   18   19   20   21   22  \n",
       "0      184   18  280  116  195   50  283  \n",
       "1      181  277  179  124  135  331   50  \n",
       "2      352   78   62  207  134   39  344  \n",
       "3      355  294  291  304   45  143   26  \n",
       "4      147  328  300   50  344  278  254  \n",
       "...    ...  ...  ...  ...  ...  ...  ...  \n",
       "99995   29  279   66   26  108  301  315  \n",
       "99996   77  340  262  149   80  197  190  \n",
       "99997  323   32  106   59  226  277  171  \n",
       "99998  309  273  318  279  148  218   61  \n",
       "99999  183   84  208    7  172  111  314  \n",
       "\n",
       "[100000 rows x 23 columns]"
      ]
     },
     "execution_count": 84,
     "metadata": {},
     "output_type": "execute_result"
    }
   ],
   "source": [
    "samesies"
   ]
  },
  {
   "cell_type": "code",
   "execution_count": 86,
   "id": "0f8e86b7",
   "metadata": {},
   "outputs": [
    {
     "data": {
      "text/plain": [
       "0        22\n",
       "1        23\n",
       "2        23\n",
       "3        23\n",
       "4        22\n",
       "         ..\n",
       "99995    22\n",
       "99996    23\n",
       "99997    23\n",
       "99998    22\n",
       "99999    21\n",
       "Length: 100000, dtype: int64"
      ]
     },
     "execution_count": 86,
     "metadata": {},
     "output_type": "execute_result"
    }
   ],
   "source": [
    "samesies.nunique(axis=1)"
   ]
  },
  {
   "cell_type": "code",
   "execution_count": 87,
   "id": "4c6b4b9f",
   "metadata": {},
   "outputs": [
    {
     "data": {
      "text/plain": [
       "0         True\n",
       "1        False\n",
       "2        False\n",
       "3        False\n",
       "4         True\n",
       "         ...  \n",
       "99995     True\n",
       "99996    False\n",
       "99997    False\n",
       "99998     True\n",
       "99999     True\n",
       "Length: 100000, dtype: bool"
      ]
     },
     "execution_count": 87,
     "metadata": {},
     "output_type": "execute_result"
    }
   ],
   "source": [
    "  samesies.nunique(axis=1) < people"
   ]
  },
  {
   "cell_type": "code",
   "execution_count": 88,
   "id": "5c49bd3c",
   "metadata": {},
   "outputs": [
    {
     "data": {
      "text/plain": [
       "0.50959"
      ]
     },
     "execution_count": 88,
     "metadata": {},
     "output_type": "execute_result"
    }
   ],
   "source": [
    "  (samesies.nunique(axis=1) < people).mean()"
   ]
  },
  {
   "cell_type": "code",
   "execution_count": 111,
   "id": "3d2b59a8",
   "metadata": {},
   "outputs": [
    {
     "data": {
      "text/plain": [
       "0.48"
      ]
     },
     "execution_count": 111,
     "metadata": {},
     "output_type": "execute_result"
    }
   ],
   "source": [
    "#20 people\n",
    "people = 20\n",
    "\n",
    "birthdays = np.random.choice(birthday, (trials, people))\n",
    "samesies = pd.DataFrame(birthdays)\n",
    "\n",
    "(samesies.nunique(axis=1) < people).mean()"
   ]
  },
  {
   "cell_type": "code",
   "execution_count": 112,
   "id": "75540456",
   "metadata": {},
   "outputs": [
    {
     "data": {
      "text/plain": [
       "0.89"
      ]
     },
     "execution_count": 112,
     "metadata": {},
     "output_type": "execute_result"
    }
   ],
   "source": [
    "#40 people\n",
    "people = 40\n",
    "\n",
    "birthdays = np.random.choice(birthday, (trials, people))\n",
    "samesies = pd.DataFrame(birthdays)\n",
    "\n",
    "(samesies.nunique(axis=1) < people).mean()"
   ]
  },
  {
   "cell_type": "code",
   "execution_count": null,
   "id": "52f80e65",
   "metadata": {},
   "outputs": [],
   "source": []
  }
 ],
 "metadata": {
  "kernelspec": {
   "display_name": "Python 3 (ipykernel)",
   "language": "python",
   "name": "python3"
  },
  "language_info": {
   "codemirror_mode": {
    "name": "ipython",
    "version": 3
   },
   "file_extension": ".py",
   "mimetype": "text/x-python",
   "name": "python",
   "nbconvert_exporter": "python",
   "pygments_lexer": "ipython3",
   "version": "3.11.5"
  }
 },
 "nbformat": 4,
 "nbformat_minor": 5
}
