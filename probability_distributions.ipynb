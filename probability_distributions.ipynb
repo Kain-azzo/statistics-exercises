{
 "cells": [
  {
   "cell_type": "code",
   "execution_count": 4,
   "id": "2d8b87d0",
   "metadata": {},
   "outputs": [],
   "source": [
    "\n",
    "# pyplot for plotting\n",
    "import matplotlib.pyplot as plt\n",
    "# numpy for vectorized array operations\n",
    "import numpy as np\n",
    "# pandas for proper tabular manipulation\n",
    "import pandas as pd\n",
    "# scipy stats for our subversions\n",
    "from scipy import stats"
   ]
  },
  {
   "cell_type": "code",
   "execution_count": 6,
   "id": "3dc8f73d",
   "metadata": {},
   "outputs": [],
   "source": [
    "one_car = stats.poisson(2).pmf(1)"
   ]
  },
  {
   "cell_type": "code",
   "execution_count": 7,
   "id": "b09942e1",
   "metadata": {},
   "outputs": [],
   "source": [
    "two_cars = stats.poisson(2).pmf(3)"
   ]
  },
  {
   "cell_type": "code",
   "execution_count": 67,
   "id": "20bb29dc",
   "metadata": {},
   "outputs": [
    {
     "data": {
      "text/plain": [
       "0.1353352832366127"
      ]
     },
     "execution_count": 67,
     "metadata": {},
     "output_type": "execute_result"
    }
   ],
   "source": [
    "no_cars"
   ]
  },
  {
   "cell_type": "code",
   "execution_count": 8,
   "id": "049ff0f7",
   "metadata": {},
   "outputs": [],
   "source": [
    "no_cars = stats.poisson(2).pmf(0)"
   ]
  },
  {
   "cell_type": "code",
   "execution_count": 9,
   "id": "9ca8c9ce",
   "metadata": {},
   "outputs": [],
   "source": [
    "cars = [one_car,two_cars,no_cars]"
   ]
  },
  {
   "cell_type": "code",
   "execution_count": 63,
   "id": "08e848f0",
   "metadata": {},
   "outputs": [
    {
     "data": {
      "text/plain": [
       "<BarContainer object of 12 artists>"
      ]
     },
     "execution_count": 63,
     "metadata": {},
     "output_type": "execute_result"
    },
    {
     "data": {
      "image/png": "[encoded data removed]",
      "text/plain": [
       "<Figure size 640x480 with 1 Axes>"
      ]
     },
     "metadata": {},
     "output_type": "display_data"
    }
   ],
   "source": [
    "# 2 cars \n",
    "λ =2\n",
    "cars_dist = stats.poisson(λ)\n",
    "xs =range(12)\n",
    "ys =[cars_dist.pmf(x) for x in xs]\n",
    "plt.bar(xs,ys)"
   ]
  },
  {
   "cell_type": "code",
   "execution_count": 64,
   "id": "9189b68e",
   "metadata": {},
   "outputs": [
    {
     "data": {
      "text/plain": [
       "0.1353352832366127"
      ]
     },
     "execution_count": 64,
     "metadata": {},
     "output_type": "execute_result"
    }
   ],
   "source": [
    "#distribution set up, now find probability of  zero\n",
    "cars_dist.cdf(0)"
   ]
  },
  {
   "cell_type": "code",
   "execution_count": 23,
   "id": "c8eee7aa",
   "metadata": {},
   "outputs": [
    {
     "data": {
      "image/png": "[encoded data removed]",
      "text/plain": [
       "<Figure size 640x480 with 1 Axes>"
      ]
     },
     "metadata": {},
     "output_type": "display_data"
    }
   ],
   "source": [
    "plt.bar(measure,cars)\n",
    "plt.title('Car probability over an hour')\n",
    "plt.show()"
   ]
  },
  {
   "cell_type": "code",
   "execution_count": null,
   "id": "7a5dcdc2",
   "metadata": {},
   "outputs": [],
   "source": []
  },
  {
   "cell_type": "code",
   "execution_count": 20,
   "id": "a8f57c7b",
   "metadata": {},
   "outputs": [],
   "source": [
    "measure = np.arange(0, 3, 1)"
   ]
  },
  {
   "cell_type": "code",
   "execution_count": 69,
   "id": "6bda1e53",
   "metadata": {},
   "outputs": [
    {
     "data": {
      "text/plain": [
       "2.689069983151863"
      ]
     },
     "execution_count": 69,
     "metadata": {},
     "output_type": "execute_result"
    }
   ],
   "source": [
    "#first make the distrobution\n",
    "μ = 3.0\n",
    "σ = 0.3\n",
    "grades_dist = stats.norm(μ,σ)\n",
    "grades_dist.ppf(0.15)"
   ]
  },
  {
   "cell_type": "code",
   "execution_count": 26,
   "id": "f160f4b0",
   "metadata": {},
   "outputs": [],
   "source": [
    "grade_calc = stats.norm(grades,top_five)"
   ]
  },
  {
   "cell_type": "code",
   "execution_count": 41,
   "id": "bafdaa3c",
   "metadata": {},
   "outputs": [
    {
     "data": {
      "text/plain": [
       "3.4934560880854417"
      ]
     },
     "execution_count": 41,
     "metadata": {},
     "output_type": "execute_result"
    }
   ],
   "source": [
    "grade_calc.ppf(.95)"
   ]
  },
  {
   "cell_type": "code",
   "execution_count": 44,
   "id": "eb68ea3a",
   "metadata": {},
   "outputs": [
    {
     "data": {
      "text/plain": [
       "2.689069983151863"
      ]
     },
     "execution_count": 44,
     "metadata": {},
     "output_type": "execute_result"
    }
   ],
   "source": [
    "grade_calc.ppf(.15)"
   ]
  },
  {
   "cell_type": "code",
   "execution_count": 45,
   "id": "5626c660",
   "metadata": {},
   "outputs": [
    {
     "data": {
      "text/plain": [
       "0.9522096477271853"
      ]
     },
     "execution_count": 45,
     "metadata": {},
     "output_type": "execute_result"
    }
   ],
   "source": [
    "grade_calc.cdf(3.5)"
   ]
  },
  {
   "cell_type": "code",
   "execution_count": 70,
   "id": "7c6ff3d7",
   "metadata": {},
   "outputs": [
    {
     "data": {
      "text/plain": [
       "2.7475136299281258"
      ]
     },
     "execution_count": 70,
     "metadata": {},
     "output_type": "execute_result"
    }
   ],
   "source": [
    "grades_dist.ppf(0.2)"
   ]
  },
  {
   "cell_type": "code",
   "execution_count": 71,
   "id": "bbe1bf89",
   "metadata": {},
   "outputs": [
    {
     "data": {
      "text/plain": [
       "2.842679846187588"
      ]
     },
     "execution_count": 71,
     "metadata": {},
     "output_type": "execute_result"
    }
   ],
   "source": [
    "grades_dist.ppf(0.3)"
   ]
  },
  {
   "cell_type": "code",
   "execution_count": 73,
   "id": "8b6bc0e5",
   "metadata": {},
   "outputs": [],
   "source": [
    "uppper,lower =grades_dist.ppf([0.2,0.3])"
   ]
  },
  {
   "cell_type": "code",
   "execution_count": 75,
   "id": "13ef41c2",
   "metadata": {},
   "outputs": [
    {
     "data": {
      "text/plain": [
       "0.9522096477271853"
      ]
     },
     "execution_count": 75,
     "metadata": {},
     "output_type": "execute_result"
    }
   ],
   "source": [
    "grades_dist.cdf(3.5)"
   ]
  },
  {
   "cell_type": "code",
   "execution_count": 76,
   "id": "27eff336",
   "metadata": {},
   "outputs": [
    {
     "data": {
      "text/plain": [
       "0.0477903522728147"
      ]
     },
     "execution_count": 76,
     "metadata": {},
     "output_type": "execute_result"
    }
   ],
   "source": [
    "grades_dist.sf(3.5)"
   ]
  },
  {
   "cell_type": "code",
   "execution_count": 77,
   "id": "e3560b18",
   "metadata": {},
   "outputs": [],
   "source": [
    "#trials:4326 rate of success: 0.02\n",
    "#97 or more clickthroughs -- survival function\n",
    "clicks= stats.binom(4326, .02).sf(96)"
   ]
  },
  {
   "cell_type": "code",
   "execution_count": 78,
   "id": "506739f3",
   "metadata": {},
   "outputs": [
    {
     "data": {
      "text/plain": [
       "0.13975823631416448"
      ]
     },
     "execution_count": 78,
     "metadata": {},
     "output_type": "execute_result"
    }
   ],
   "source": [
    "clicks"
   ]
  },
  {
   "cell_type": "code",
   "execution_count": 81,
   "id": "6f148172",
   "metadata": {},
   "outputs": [
    {
     "data": {
      "text/plain": [
       "87.92"
      ]
     },
     "execution_count": 81,
     "metadata": {},
     "output_type": "execute_result"
    }
   ],
   "source": [
    "# do this using poisson\n",
    "# lambda:probablility of success over a specific window\n",
    "#\n",
    "lambda2 =.02 * 4396\n",
    "lambda2"
   ]
  },
  {
   "cell_type": "code",
   "execution_count": 6,
   "id": "8ac7510f",
   "metadata": {},
   "outputs": [
    {
     "data": {
      "text/plain": [
       "0.44955038406224"
      ]
     },
     "execution_count": 6,
     "metadata": {},
     "output_type": "execute_result"
    }
   ],
   "source": [
    "prob_success = 1/101\n",
    "num_trials = 60\n",
    "homework_dist = stats.binom(num_trials,prob_success)\n",
    "homework_dist.sf(0)"
   ]
  },
  {
   "cell_type": "code",
   "execution_count": 20,
   "id": "16ac05e1",
   "metadata": {},
   "outputs": [],
   "source": [
    "#setup\n",
    "#success rate: 3%\n",
    "#num of trails\n",
    "prob_success = .03\n",
    "num_trials = int(0.9*3*22)"
   ]
  },
  {
   "cell_type": "code",
   "execution_count": 8,
   "id": "1cff7928",
   "metadata": {},
   "outputs": [],
   "source": [
    "cleaning_dist = stats.binom(num_trials,prob_success)"
   ]
  },
  {
   "cell_type": "code",
   "execution_count": 98,
   "id": "efaa6fd2",
   "metadata": {},
   "outputs": [
    {
     "data": {
      "text/plain": [
       "0.83"
      ]
     },
     "execution_count": 98,
     "metadata": {},
     "output_type": "execute_result"
    }
   ],
   "source": [
    "round(cleaning_dist.sf(0),2)"
   ]
  },
  {
   "cell_type": "code",
   "execution_count": 11,
   "id": "fc3ad807",
   "metadata": {},
   "outputs": [
    {
     "data": {
      "text/plain": [
       "0.026658541032798935"
      ]
     },
     "execution_count": 11,
     "metadata": {},
     "output_type": "execute_result"
    }
   ],
   "source": [
    "stats.binom(((num_trials*2)+1),prob_success).pmf(0)"
   ]
  },
  {
   "cell_type": "code",
   "execution_count": 50,
   "id": "9ae98a1e",
   "metadata": {},
   "outputs": [],
   "source": [
    "num_trials = round((0.9 * 3 * 22) * 5, 0)\n",
    "cleaning_dist = stats.binom(num_trials,prob_success)"
   ]
  },
  {
   "cell_type": "code",
   "execution_count": 51,
   "id": "fc73dfce",
   "metadata": {},
   "outputs": [
    {
     "data": {
      "text/plain": [
       "0.00011781621791054943"
      ]
     },
     "execution_count": 51,
     "metadata": {},
     "output_type": "execute_result"
    }
   ],
   "source": [
    "cleaning_dist.pmf(0)"
   ]
  },
  {
   "cell_type": "code",
   "execution_count": 118,
   "id": "0f9b77b7",
   "metadata": {},
   "outputs": [],
   "source": [
    "σ = 3 * 2\n",
    "μ = 15 * 2"
   ]
  },
  {
   "cell_type": "code",
   "execution_count": 119,
   "id": "69826e17",
   "metadata": {},
   "outputs": [],
   "source": [
    "line_dist = stats.norm(μ,σ)"
   ]
  },
  {
   "cell_type": "code",
   "execution_count": 116,
   "id": "35c0f10b",
   "metadata": {},
   "outputs": [
    {
     "data": {
      "text/plain": [
       "33"
      ]
     },
     "execution_count": 116,
     "metadata": {},
     "output_type": "execute_result"
    }
   ],
   "source": [
    "60 -(15+10+2)"
   ]
  },
  {
   "cell_type": "code",
   "execution_count": 120,
   "id": "191fd377",
   "metadata": {},
   "outputs": [
    {
     "data": {
      "text/plain": [
       "0.6914624612740131"
      ]
     },
     "execution_count": 120,
     "metadata": {},
     "output_type": "execute_result"
    }
   ],
   "source": [
    "line_dist.cdf(33)"
   ]
  },
  {
   "cell_type": "code",
   "execution_count": 30,
   "id": "0d3a423e",
   "metadata": {},
   "outputs": [],
   "source": [
    "import env\n",
    "query = '''\n",
    "SELECT * FROM salaries s WHERE s.to_date > NOW()\n",
    "'''\n",
    "url = f'mysql+pymysql://{env.username}:{env.password}@{env.host}/employees'  \n",
    "pay_frame = pd.read_sql(query, url)"
   ]
  },
  {
   "cell_type": "code",
   "execution_count": 26,
   "id": "ac90923a",
   "metadata": {},
   "outputs": [],
   "source": [
    "query ='''SELECT * FROM salaries s where s.to_date > NOW'''\n",
    "connection = f'mysql+pymsql://{env.username}:{env.password}@{env.host}/employees'"
   ]
  },
  {
   "cell_type": "code",
   "execution_count": 31,
   "id": "925df9ab",
   "metadata": {},
   "outputs": [],
   "source": [
    "sal_stats = pay_frame.salary.agg(['mean', 'std'])"
   ]
  },
  {
   "cell_type": "code",
   "execution_count": 32,
   "id": "aa472553",
   "metadata": {},
   "outputs": [
    {
     "data": {
      "text/plain": [
       "array([72012.23585731, 17309.99538025])"
      ]
     },
     "execution_count": 32,
     "metadata": {},
     "output_type": "execute_result"
    }
   ],
   "source": [
    "sal_stats.values"
   ]
  },
  {
   "cell_type": "code",
   "execution_count": 33,
   "id": "7c86bb88",
   "metadata": {},
   "outputs": [],
   "source": [
    "salary_dist = stats.norm(*sal_stats.values)"
   ]
  },
  {
   "cell_type": "code",
   "execution_count": 34,
   "id": "58c9c4dc",
   "metadata": {},
   "outputs": [
    {
     "data": {
      "text/plain": [
       "0.24"
      ]
     },
     "execution_count": 34,
     "metadata": {},
     "output_type": "execute_result"
    }
   ],
   "source": [
    "round(salary_dist.cdf(60_000), 2)"
   ]
  },
  {
   "cell_type": "code",
   "execution_count": 35,
   "id": "77321590",
   "metadata": {},
   "outputs": [
    {
     "data": {
      "text/plain": [
       "0.09"
      ]
     },
     "execution_count": 35,
     "metadata": {},
     "output_type": "execute_result"
    }
   ],
   "source": [
    "round(salary_dist.sf(95_000), 2)"
   ]
  },
  {
   "cell_type": "code",
   "execution_count": 37,
   "id": "e8935858",
   "metadata": {},
   "outputs": [],
   "source": [
    "high_sal, lower_sal = salary_dist.cdf([80_000, 65_000])\n",
    "salary_bracket = high_sal - lower_sal"
   ]
  },
  {
   "cell_type": "code",
   "execution_count": 38,
   "id": "90df3b97",
   "metadata": {},
   "outputs": [
    {
     "data": {
      "text/plain": [
       "0.34"
      ]
     },
     "execution_count": 38,
     "metadata": {},
     "output_type": "execute_result"
    }
   ],
   "source": [
    "round(salary_bracket, 2)"
   ]
  },
  {
   "cell_type": "code",
   "execution_count": 39,
   "id": "b55eb118",
   "metadata": {},
   "outputs": [
    {
     "data": {
      "text/plain": [
       "100484.64454102777"
      ]
     },
     "execution_count": 39,
     "metadata": {},
     "output_type": "execute_result"
    }
   ],
   "source": [
    "salary_dist.isf(0.05)"
   ]
  },
  {
   "cell_type": "code",
   "execution_count": 40,
   "id": "2433a588",
   "metadata": {},
   "outputs": [
    {
     "data": {
      "text/plain": [
       "100484.64454102775"
      ]
     },
     "execution_count": 40,
     "metadata": {},
     "output_type": "execute_result"
    }
   ],
   "source": [
    "salary_dist.ppf(0.95)"
   ]
  },
  {
   "cell_type": "code",
   "execution_count": 41,
   "id": "551bf3b1",
   "metadata": {},
   "outputs": [],
   "source": [
    "num_trials = round((0.9 * 3 * 22) * 5, 0)\n",
    "cleaning_dist2 = stats.binom(num_trials, prob_success)"
   ]
  },
  {
   "cell_type": "code",
   "execution_count": 42,
   "id": "926b91da",
   "metadata": {},
   "outputs": [
    {
     "data": {
      "text/plain": [
       "0.00011781621791054943"
      ]
     },
     "execution_count": 42,
     "metadata": {},
     "output_type": "execute_result"
    }
   ],
   "source": [
    "cleaning_dist2.pmf(0)"
   ]
  },
  {
   "cell_type": "code",
   "execution_count": 47,
   "id": "2a21ed7e",
   "metadata": {},
   "outputs": [],
   "source": []
  },
  {
   "cell_type": "code",
   "execution_count": null,
   "id": "bcd5a4be",
   "metadata": {},
   "outputs": [],
   "source": []
  }
 ],
 "metadata": {
  "kernelspec": {
   "display_name": "Python 3 (ipykernel)",
   "language": "python",
   "name": "python3"
  },
  "language_info": {
   "codemirror_mode": {
    "name": "ipython",
    "version": 3
   },
   "file_extension": ".py",
   "mimetype": "text/x-python",
   "name": "python",
   "nbconvert_exporter": "python",
   "pygments_lexer": "ipython3",
   "version": "3.11.5"
  }
 },
 "nbformat": 4,
 "nbformat_minor": 5
}
